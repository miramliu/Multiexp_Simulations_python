{
 "cells": [
  {
   "cell_type": "markdown",
   "id": "b826e3f8",
   "metadata": {},
   "source": [
    "# analysis of simulation results\n",
    "\n",
    "11/25/24"
   ]
  },
  {
   "cell_type": "code",
   "execution_count": 2,
   "id": "a400be77",
   "metadata": {},
   "outputs": [],
   "source": [
    "import numpy as np\n",
    "import matplotlib\n",
    "import matplotlib.pyplot as pl\n",
    "%matplotlib inline\n",
    "import csv\n",
    "\n",
    "import scipy.optimize as op\n",
    "import scipy.stats\n",
    "from scipy.optimize import curve_fit\n",
    "import scipy.io\n",
    "from scipy.stats import rice\n",
    "\n",
    "import random\n",
    "import pickle\n",
    "import seaborn as sns\n",
    "\n",
    "import numpy as np\n",
    "from scipy.stats import ttest_ind, ttest_ind_from_stats, wilcoxon,ttest_rel, pearsonr,shapiro,f_oneway, ranksums\n",
    "from scipy.special import stdtr\n",
    "import csv\n",
    "import pandas as pd\n",
    "\n",
    "from scipy.integrate import quad\n",
    "import sys \n",
    "import os\n",
    "sys.path.append(os.path.abspath(\"/Users/miraliu/Desktop/PostDocCode/PartialNephrectomy_Python\"))\n",
    "sys.path.append(os.path.abspath(\"/Users/miraliu/Desktop/PostDocCode/RenalAllograft_Python\"))\n",
    "\n",
    "from ML_UsefulFunctions import *\n",
    "from KidneyROIAnalyses import *\n",
    "from RenalAllograftFunctions import *\n",
    "from DataLeakageCorrections import *\n",
    "\n",
    "from scipy import special\n",
    "\n",
    "from scipy.integrate import tplquad\n",
    "\n",
    "pd.options.display.float_format = '{:.3f}'.format\n",
    "\n",
    "from scipy.stats import f_oneway\n",
    "\n",
    "from collections import Counter\n",
    "from sklearn.feature_selection import SequentialFeatureSelector\n",
    "\n",
    "pl.rcParams[\"font.family\"] = \"Times New Roman\"\n",
    "\n",
    "\n",
    "import warnings\n",
    "warnings.simplefilter(\"ignore\")"
   ]
  },
  {
   "cell_type": "markdown",
   "id": "02f0a372",
   "metadata": {},
   "source": [
    "# three peak analysis!"
   ]
  },
  {
   "cell_type": "code",
   "execution_count": 3,
   "id": "88551b0f",
   "metadata": {},
   "outputs": [],
   "source": [
    "fileloc = '/Users/miraliu/Desktop/PostDocCode/Multiexp_Simulations_python/MultiExpSimulatedCurves_anomalous_11142024.xlsx'\n",
    "df_True = pd.read_excel(fileloc,sheet_name = 'TrueData_SNR_50') \n",
    "\n",
    "df_TrueParams = pd.read_excel(fileloc,sheet_name = 'Parameters') \n",
    "df_AveragedNoise = pd.read_excel(fileloc,sheet_name = 'TrueNoise_SNR_50') \n",
    "#Truth=Truth.rename(columns={c: 'True '+c for c in Truth.columns if c not in ['Run Number', 'Unnamed']})\n",
    "\n",
    "b_values11 = np.array([0,10,30,50,80,120,200,400,800])#, 1100, 1380]) # medium range 11 b values 0 - 1380\n"
   ]
  },
  {
   "cell_type": "code",
   "execution_count": null,
   "id": "f45e3d79",
   "metadata": {},
   "outputs": [],
   "source": []
  }
 ],
 "metadata": {
  "kernelspec": {
   "display_name": "Python 3 (ipykernel)",
   "language": "python",
   "name": "python3"
  },
  "language_info": {
   "codemirror_mode": {
    "name": "ipython",
    "version": 3
   },
   "file_extension": ".py",
   "mimetype": "text/x-python",
   "name": "python",
   "nbconvert_exporter": "python",
   "pygments_lexer": "ipython3",
   "version": "3.11.4"
  }
 },
 "nbformat": 4,
 "nbformat_minor": 5
}
