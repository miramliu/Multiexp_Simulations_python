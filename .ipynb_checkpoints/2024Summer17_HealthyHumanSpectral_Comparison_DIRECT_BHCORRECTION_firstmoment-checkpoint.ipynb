{
 "cells": [
  {
   "cell_type": "markdown",
   "id": "d975d064",
   "metadata": {},
   "source": [
    "# to get numbers for Table 2 in the technical \n",
    "\n",
    "CHange the line 2 in the second box to compare different methods of calculating a spectrum"
   ]
  },
  {
   "cell_type": "code",
   "execution_count": 15,
   "id": "9c4bf472",
   "metadata": {},
   "outputs": [],
   "source": [
    "import numpy as np\n",
    "import matplotlib\n",
    "import matplotlib.pyplot as pl\n",
    "%matplotlib inline\n",
    "import csv\n",
    "\n",
    "import scipy.optimize as op\n",
    "import scipy.stats\n",
    "from scipy.optimize import curve_fit\n",
    "import scipy.io\n",
    "from scipy.stats import rice\n",
    "\n",
    "import random\n",
    "import pickle\n",
    "import seaborn as sns\n",
    "\n",
    "import numpy as np\n",
    "from scipy.stats import ttest_ind, ttest_ind_from_stats, wilcoxon,ttest_rel, pearsonr,shapiro,f_oneway, ranksums\n",
    "from scipy.special import stdtr\n",
    "import csv\n",
    "import pandas as pd\n",
    "\n",
    "from scipy.integrate import quad\n",
    "import sys \n",
    "import os\n",
    "sys.path.append(os.path.abspath(\"/Users/miraliu/Desktop/PostDocCode/PartialNephrectomy_Python\"))\n",
    "sys.path.append(os.path.abspath(\"/Users/miraliu/Desktop/PostDocCode/RenalAllograft_Python\"))\n",
    "\n",
    "#sys.path.append('../')\n",
    "from ML_UsefulFunctions import *\n",
    "from KidneyROIAnalyses import *\n",
    "from RenalAllograftFunctions import *\n",
    "from ML_Stats import *\n",
    "\n",
    "from scipy import special\n",
    "\n",
    "from scipy.integrate import tplquad\n",
    "\n",
    "pd.options.display.float_format = '{:.3f}'.format\n",
    "\n",
    "from scipy.stats import f_oneway\n",
    "\n",
    "\n",
    "from sklearn.feature_selection import SequentialFeatureSelector\n",
    "\n",
    "import warnings\n",
    "warnings.simplefilter(\"ignore\")"
   ]
  },
  {
   "cell_type": "markdown",
   "id": "3784104c",
   "metadata": {},
   "source": [
    "# CORRECTED..."
   ]
  },
  {
   "cell_type": "code",
   "execution_count": 16,
   "id": "0e604557",
   "metadata": {},
   "outputs": [],
   "source": [
    "fileloc = '/Users/miraliu/Desktop/Data/RA/RenalAllograft_IVIM/RA_DiffusionSpectra_IVIM_CORRECTED.xlsx'\n",
    "Multiexp_Data = pd.read_excel(fileloc,sheet_name = 'Sortedfourpeaks_regdNNLS_8_fd') ## take2 or not here\n",
    "Multiexp_Data[\"Record ID\"] = Multiexp_Data[\"Record ID\"].str.replace(\"_P\", \"_\")\n",
    "\n",
    "fileloc = '/Users/miraliu/Desktop/Data/RA/GCO202690RAMulticent-BanffScores_DATA_LABELS_2024-04-19_1316.xlsx'\n",
    "RA_Database_Patients = pd.read_excel(fileloc, sheet_name = 'GCO202690RAMulticent-BanffScore',header = 0) \n",
    "RA_Database_Patients[\"Record ID\"] = RA_Database_Patients[\"Record ID\"].str.replace(\"_P\", \"_\")\n",
    "\n",
    "\n",
    "fileloc = '/Users/miraliu/Desktop/Data/RA/GCO202690RAMulticent-Octavia_DATA_LABELS_2024-04-18_1424.xlsx'\n",
    "RA_wEGFR = pd.read_excel(fileloc, sheet_name = 'GCO202690RAMulticent-Octavia_DA',header = 0) \n",
    "RA_wEGFR[\"Record ID\"] = RA_wEGFR[\"Record ID\"].str.replace(\"_P\", \"_\")\n",
    "\n",
    "\n",
    "Cases_to_Run = pd.merge(Multiexp_Data, RA_Database_Patients[['Record ID', 'Interstitial Fibrosis Tubular Atrophy (ci+ct)']], how = 'inner', left_on=[\"Record ID\"], right_on = ['Record ID'])\n",
    "Cases_to_Run = Cases_to_Run.drop_duplicates(keep='first',ignore_index = True)\n",
    "\n",
    "Cases_to_Run_cortical = Cases_to_Run.loc[Multiexp_Data['ROI Type'].str.endswith('C')]\n",
    "Cases_to_Run_medullar = Cases_to_Run.loc[Multiexp_Data['ROI Type'].str.endswith('M')]\n",
    "\n",
    "Cases_to_Run_cortical_Volunteer = Multiexp_Data.loc[Multiexp_Data['ROI Type'].str.endswith('C') & Multiexp_Data['ROI Type'].str.contains('V')  & Multiexp_Data['ROI Type'].str.contains('LK')]\n",
    "Cases_to_Run_medullar_Volunteer = Multiexp_Data.loc[Multiexp_Data['ROI Type'].str.endswith('M') & Multiexp_Data['ROI Type'].str.contains('V') & Multiexp_Data['ROI Type'].str.contains('LK')]\n"
   ]
  },
  {
   "cell_type": "code",
   "execution_count": 17,
   "id": "3f71d0a1",
   "metadata": {},
   "outputs": [],
   "source": [
    "RA_Database_Volunteer=Cases_to_Run_cortical_Volunteer\n",
    "#RA_Database_Volunteer=RA_Database_Volunteer.drop(list(RA_Database_Volunteer)[42:], axis=1)\n",
    "\n",
    "\n"
   ]
  },
  {
   "cell_type": "code",
   "execution_count": 18,
   "id": "f4a276a3",
   "metadata": {},
   "outputs": [],
   "source": [
    "\n",
    "RA_Database_Patient  = Cases_to_Run.dropna(subset = 'Interstitial Fibrosis Tubular Atrophy (ci+ct)')\n",
    "RA_Database_Patient = RA_Database_Patient.rename(columns={'Interstitial Fibrosis Tubular Atrophy (ci+ct)': 'IFTA'})\n",
    "\n",
    "#RA_Database_Patient=RA_Database_Patient.drop(columns=list(RA_Database_Patient)[42:], axis=1)"
   ]
  },
  {
   "cell_type": "code",
   "execution_count": 19,
   "id": "ef8357f4",
   "metadata": {},
   "outputs": [],
   "source": [
    "\n",
    "\n",
    "RA_Database_Patient = pd.merge(RA_Database_Patient, RA_wEGFR[['Record ID', 'GFR CKD EPI']], how = 'inner', left_on=[\"Record ID\"], right_on = ['Record ID'])\n",
    "#RA_Database_Patient.insert(55, 'IFTA',RA_Database_Patient.pop('IFTA'))\n",
    "\n",
    "RA_Database_Patient = RA_Database_Patient.drop_duplicates(subset=['Record ID'])"
   ]
  },
  {
   "cell_type": "code",
   "execution_count": 20,
   "id": "8e35ecae",
   "metadata": {},
   "outputs": [],
   "source": [
    "RA_Database_Patient = RA_Database_Patient.drop(RA_Database_Patient.filter(regex='result').columns, axis=1)\n",
    "RA_Database_Patient = RA_Database_Patient.drop(RA_Database_Patient.filter(regex='rsq').columns, axis=1)\n",
    "RA_Database_Patient = RA_Database_Patient.drop(RA_Database_Patient.filter(regex='peak').columns, axis=1)\n",
    "\n",
    "RA_Database_Volunteer = RA_Database_Volunteer.drop(RA_Database_Volunteer.filter(regex='result').columns, axis=1)\n",
    "RA_Database_Volunteer = RA_Database_Volunteer.drop(RA_Database_Volunteer.filter(regex='rsq').columns, axis=1)\n",
    "RA_Database_Volunteer = RA_Database_Volunteer.drop(RA_Database_Volunteer.filter(regex='peak').columns, axis=1)\n"
   ]
  },
  {
   "cell_type": "code",
   "execution_count": 21,
   "id": "056ce48f",
   "metadata": {},
   "outputs": [],
   "source": [
    "df = RA_Database_Patient.dropna(subset = 'IFTA')\n",
    "df = df.dropna(subset = 'GFR CKD EPI')\n",
    "\n",
    "\n",
    "## NOTE THE RENUMBERING IN ORDER OF DECREASE\n",
    "df['allograft status'] = df['GFR CKD EPI']\n",
    "df['allograft status'].loc[(df['GFR CKD EPI'] > 45) &(df['IFTA'] == 0)] = 0 #'Healthy Function'\n",
    "df['allograft status'].loc[(df['GFR CKD EPI'] <= 45) &(df['IFTA'] == 0)] = 1 #'No fibrosis impaired function'\n",
    "df['allograft status'].loc[(df['GFR CKD EPI'] > 45) &(df['IFTA'] > 0)] = 2 #'Fibrosis with normal function'\n",
    "df['allograft status'].loc[(df['GFR CKD EPI'] <= 45) &(df['IFTA'] > 0)] = 3 #'Fibrosis with impaired function'\n",
    "\n",
    "\n",
    "df_healthyallo = df.loc[df['allograft status']==  0]\n",
    "df_impfunc = df.loc[df['allograft status'] == 1]\n",
    "df_fibro = df.loc[df['allograft status'] == 2]\n",
    "df_fibroimpfunc = df.loc[df['allograft status'] == 3]\n",
    "df_anyclinical = df.loc[df['allograft status'] > 0]\n",
    "\n",
    "df_healthyallo = df_healthyallo.drop(list(df_healthyallo)[69:71], axis=1)\n",
    "df_impfunc=df_impfunc.drop(list(df_impfunc)[69:71], axis=1)\n",
    "df_fibro= df_fibro.drop(list(df_fibro)[69:71], axis=1)\n",
    "df_fibroimpfunc= df_fibroimpfunc.drop(list(df_fibroimpfunc)[69:71], axis=1)\n",
    "df_anyclinical= df_anyclinical.drop(list(df_anyclinical)[69:71], axis=1)\n",
    "\n"
   ]
  },
  {
   "cell_type": "code",
   "execution_count": 22,
   "id": "4c2545cb",
   "metadata": {},
   "outputs": [],
   "source": [
    "def false_discovery_control(ps, *, axis=0, method='bh'):\n",
    "\n",
    "    # Input Validation and Special Cases\n",
    "    ps = np.asarray(ps)\n",
    "    #print(ps)\n",
    "\n",
    "    ps_in_range = (np.issubdtype(ps.dtype, np.number)\n",
    "                   and np.all(ps == np.clip(ps, 0, 1)))\n",
    "    #if not ps_in_range:\n",
    "        #raise ValueError(\"`ps` must include only numbers between 0 and 1.\")\n",
    "\n",
    "    methods = {'bh', 'by'}\n",
    "    if method.lower() not in methods:\n",
    "        raise ValueError(f\"Unrecognized `method` '{method}'.\"\n",
    "                         f\"Method must be one of {methods}.\")\n",
    "    method = method.lower()\n",
    "\n",
    "    if axis is None:\n",
    "        axis = 0\n",
    "        ps = ps.ravel()\n",
    "\n",
    "    axis = np.asarray(axis)[()]\n",
    "    if not np.issubdtype(axis.dtype, np.integer) or axis.size != 1:\n",
    "        raise ValueError(\"`axis` must be an integer or `None`\")\n",
    "\n",
    "    if ps.size <= 1 or ps.shape[axis] <= 1:\n",
    "        return ps[()]\n",
    "\n",
    "    ps = np.moveaxis(ps, axis, -1)\n",
    "    m = ps.shape[-1]\n",
    "\n",
    "    # Main Algorithm\n",
    "    # Equivalent to the ideas of [1] and [2], except that this adjusts the\n",
    "    # p-values as described in [3]. The results are similar to those produced\n",
    "    # by R's p.adjust.\n",
    "\n",
    "    # \"Let [ps] be the ordered observed p-values...\"\n",
    "    order = np.argsort(ps, axis=-1)\n",
    "    ps = np.take_along_axis(ps, order, axis=-1)  # this copies ps\n",
    "\n",
    "    # Equation 1 of [1] rearranged to reject when p is less than specified q\n",
    "    i = np.arange(1, m+1)\n",
    "    ps *= m / i\n",
    "\n",
    "    # Theorem 1.3 of [2]\n",
    "    if method == 'by':\n",
    "        ps *= np.sum(1 / i)\n",
    "\n",
    "    # accounts for rejecting all null hypotheses i for i < k, where k is\n",
    "    # defined in Eq. 1 of either [1] or [2]. See [3]. Starting with the index j\n",
    "    # of the second to last element, we replace element j with element j+1 if\n",
    "    # the latter is smaller.\n",
    "    np.minimum.accumulate(ps[..., ::-1], out=ps[..., ::-1], axis=-1)\n",
    "\n",
    "    # Restore original order of axes and data\n",
    "    np.put_along_axis(ps, order, values=ps.copy(), axis=-1)\n",
    "    ps = np.moveaxis(ps, -1, axis)\n",
    "\n",
    "    return np.clip(ps, 0, 1)"
   ]
  },
  {
   "cell_type": "code",
   "execution_count": 23,
   "id": "94893e92",
   "metadata": {},
   "outputs": [],
   "source": [
    "# input two dataframes with matching columns, and calculate ranksums across all columns\n",
    "def testranksums(df1, df2):\n",
    "    comparisons = df1.columns\n",
    "    dummy = np.empty((len(comparisons)-2,4),dtype=object)\n",
    "    for j in range(2,len(comparisons)):\n",
    "        out = scipy.stats.ranksums(df1[comparisons[j]], df2[comparisons[j]])\n",
    "        dummy[j-2,:]=[comparisons[j], [round(df1[comparisons[j]].mean(),2), '±',round(df1[comparisons[j]].std(),2)], [round(df2[comparisons[j]].mean(),2),'±',round(df2[comparisons[j]].std(),2)], out[1]]\n",
    "        #if out[1] < 0.09:\n",
    "            #print('\\n', comparisons[j])\n",
    "            #print(round(df1[comparisons[j]].mean(),2), '±',round(df1[comparisons[j]].std(),2), 'vs.', round(df2[comparisons[j]].mean(),2),'±',round(df2[comparisons[j]].std(),2))\n",
    "            #print('ranksum stat = ', round(out[0],2), 'p = ', round(out[1], 3))\n",
    "    #print(dummy)   \n",
    "    pval_df = pd.DataFrame({'Feature': dummy[:, 0], 'healthy': dummy[:,1],'pathological': dummy[:,2], 'p-value': dummy[:, 3]}).sort_values('p-value')\n",
    "    pval_df = pval_df.replace(1, 0.999)\n",
    "    #display(pval_df)\n",
    "    corrected_p = false_discovery_control(pval_df['p-value'])\n",
    "    corrected_p = [round(x, 3) for x in corrected_p]\n",
    "    pval_df['bh p-value'] = corrected_p\n",
    "    display(pval_df.loc[pval_df['p-value'] <= 0.05])"
   ]
  },
  {
   "cell_type": "code",
   "execution_count": 24,
   "id": "135903f8",
   "metadata": {
    "scrolled": false
   },
   "outputs": [
    {
     "name": "stdout",
     "output_type": "stream",
     "text": [
      "Healthy volunteer vs. Allografts with healthy function & no fibrosis 13\n"
     ]
    },
    {
     "data": {
      "text/html": [
       "<div>\n",
       "<style scoped>\n",
       "    .dataframe tbody tr th:only-of-type {\n",
       "        vertical-align: middle;\n",
       "    }\n",
       "\n",
       "    .dataframe tbody tr th {\n",
       "        vertical-align: top;\n",
       "    }\n",
       "\n",
       "    .dataframe thead th {\n",
       "        text-align: right;\n",
       "    }\n",
       "</style>\n",
       "<table border=\"1\" class=\"dataframe\">\n",
       "  <thead>\n",
       "    <tr style=\"text-align: right;\">\n",
       "      <th></th>\n",
       "      <th>Feature</th>\n",
       "      <th>healthy</th>\n",
       "      <th>pathological</th>\n",
       "      <th>p-value</th>\n",
       "      <th>bh p-value</th>\n",
       "    </tr>\n",
       "  </thead>\n",
       "  <tbody>\n",
       "    <tr>\n",
       "      <th>51</th>\n",
       "      <td>std slow fd</td>\n",
       "      <td>[0.79, ±, 0.19]</td>\n",
       "      <td>[0.56, ±, 0.16]</td>\n",
       "      <td>0.027</td>\n",
       "      <td>0.633</td>\n",
       "    </tr>\n",
       "    <tr>\n",
       "      <th>30</th>\n",
       "      <td>mean D tissue</td>\n",
       "      <td>[2.71, ±, 0.71]</td>\n",
       "      <td>[2.09, ±, 0.27]</td>\n",
       "      <td>0.034</td>\n",
       "      <td>0.633</td>\n",
       "    </tr>\n",
       "  </tbody>\n",
       "</table>\n",
       "</div>"
      ],
      "text/plain": [
       "          Feature          healthy     pathological  p-value  bh p-value\n",
       "51    std slow fd  [0.79, ±, 0.19]  [0.56, ±, 0.16]    0.027       0.633\n",
       "30  mean D tissue  [2.71, ±, 0.71]  [2.09, ±, 0.27]    0.034       0.633"
      ]
     },
     "metadata": {},
     "output_type": "display_data"
    }
   ],
   "source": [
    "print('Healthy volunteer vs. Allografts with healthy function & no fibrosis', len(df_healthyallo))\n",
    "testranksums(RA_Database_Volunteer, df_healthyallo)\n"
   ]
  },
  {
   "cell_type": "code",
   "execution_count": 25,
   "id": "e6d292f3",
   "metadata": {
    "scrolled": true
   },
   "outputs": [
    {
     "name": "stdout",
     "output_type": "stream",
     "text": [
      "Healthy volunteer vs. Allografts with impaired function & no fibrosis 7\n"
     ]
    },
    {
     "data": {
      "text/html": [
       "<div>\n",
       "<style scoped>\n",
       "    .dataframe tbody tr th:only-of-type {\n",
       "        vertical-align: middle;\n",
       "    }\n",
       "\n",
       "    .dataframe tbody tr th {\n",
       "        vertical-align: top;\n",
       "    }\n",
       "\n",
       "    .dataframe thead th {\n",
       "        text-align: right;\n",
       "    }\n",
       "</style>\n",
       "<table border=\"1\" class=\"dataframe\">\n",
       "  <thead>\n",
       "    <tr style=\"text-align: right;\">\n",
       "      <th></th>\n",
       "      <th>Feature</th>\n",
       "      <th>healthy</th>\n",
       "      <th>pathological</th>\n",
       "      <th>p-value</th>\n",
       "      <th>bh p-value</th>\n",
       "    </tr>\n",
       "  </thead>\n",
       "  <tbody>\n",
       "    <tr>\n",
       "      <th>51</th>\n",
       "      <td>std slow fd</td>\n",
       "      <td>[0.79, ±, 0.19]</td>\n",
       "      <td>[0.48, ±, 0.19]</td>\n",
       "      <td>0.042</td>\n",
       "      <td>0.466</td>\n",
       "    </tr>\n",
       "    <tr>\n",
       "      <th>5</th>\n",
       "      <td>mean f tubule</td>\n",
       "      <td>[0.11, ±, 0.04]</td>\n",
       "      <td>[0.05, ±, 0.05]</td>\n",
       "      <td>0.042</td>\n",
       "      <td>0.466</td>\n",
       "    </tr>\n",
       "    <tr>\n",
       "      <th>32</th>\n",
       "      <td>std D tissue</td>\n",
       "      <td>[1.02, ±, 0.24]</td>\n",
       "      <td>[0.6, ±, 0.31]</td>\n",
       "      <td>0.042</td>\n",
       "      <td>0.466</td>\n",
       "    </tr>\n",
       "    <tr>\n",
       "      <th>7</th>\n",
       "      <td>std f tubule</td>\n",
       "      <td>[0.15, ±, 0.03]</td>\n",
       "      <td>[0.09, ±, 0.05]</td>\n",
       "      <td>0.042</td>\n",
       "      <td>0.466</td>\n",
       "    </tr>\n",
       "    <tr>\n",
       "      <th>10</th>\n",
       "      <td>mean f tissue</td>\n",
       "      <td>[0.73, ±, 0.05]</td>\n",
       "      <td>[0.83, ±, 0.07]</td>\n",
       "      <td>0.042</td>\n",
       "      <td>0.466</td>\n",
       "    </tr>\n",
       "  </tbody>\n",
       "</table>\n",
       "</div>"
      ],
      "text/plain": [
       "          Feature          healthy     pathological p-value  bh p-value\n",
       "51    std slow fd  [0.79, ±, 0.19]  [0.48, ±, 0.19]   0.042       0.466\n",
       "5   mean f tubule  [0.11, ±, 0.04]  [0.05, ±, 0.05]   0.042       0.466\n",
       "32   std D tissue  [1.02, ±, 0.24]   [0.6, ±, 0.31]   0.042       0.466\n",
       "7    std f tubule  [0.15, ±, 0.03]  [0.09, ±, 0.05]   0.042       0.466\n",
       "10  mean f tissue  [0.73, ±, 0.05]  [0.83, ±, 0.07]   0.042       0.466"
      ]
     },
     "metadata": {},
     "output_type": "display_data"
    }
   ],
   "source": [
    "print('Healthy volunteer vs. Allografts with impaired function & no fibrosis', len(df_impfunc))\n",
    "testranksums(RA_Database_Volunteer, df_impfunc)\n"
   ]
  },
  {
   "cell_type": "code",
   "execution_count": 26,
   "id": "660d9795",
   "metadata": {
    "scrolled": false
   },
   "outputs": [
    {
     "name": "stdout",
     "output_type": "stream",
     "text": [
      "Healthy volunteer vs. Allografts with healthy function & fibrosis 15\n"
     ]
    },
    {
     "data": {
      "text/html": [
       "<div>\n",
       "<style scoped>\n",
       "    .dataframe tbody tr th:only-of-type {\n",
       "        vertical-align: middle;\n",
       "    }\n",
       "\n",
       "    .dataframe tbody tr th {\n",
       "        vertical-align: top;\n",
       "    }\n",
       "\n",
       "    .dataframe thead th {\n",
       "        text-align: right;\n",
       "    }\n",
       "</style>\n",
       "<table border=\"1\" class=\"dataframe\">\n",
       "  <thead>\n",
       "    <tr style=\"text-align: right;\">\n",
       "      <th></th>\n",
       "      <th>Feature</th>\n",
       "      <th>healthy</th>\n",
       "      <th>pathological</th>\n",
       "      <th>p-value</th>\n",
       "      <th>bh p-value</th>\n",
       "    </tr>\n",
       "  </thead>\n",
       "  <tbody>\n",
       "    <tr>\n",
       "      <th>5</th>\n",
       "      <td>mean f tubule</td>\n",
       "      <td>[0.11, ±, 0.04]</td>\n",
       "      <td>[0.04, ±, 0.04]</td>\n",
       "      <td>0.006</td>\n",
       "      <td>0.204</td>\n",
       "    </tr>\n",
       "    <tr>\n",
       "      <th>7</th>\n",
       "      <td>std f tubule</td>\n",
       "      <td>[0.15, ±, 0.03]</td>\n",
       "      <td>[0.09, ±, 0.06]</td>\n",
       "      <td>0.016</td>\n",
       "      <td>0.204</td>\n",
       "    </tr>\n",
       "    <tr>\n",
       "      <th>10</th>\n",
       "      <td>mean f tissue</td>\n",
       "      <td>[0.73, ±, 0.05]</td>\n",
       "      <td>[0.85, ±, 0.09]</td>\n",
       "      <td>0.016</td>\n",
       "      <td>0.204</td>\n",
       "    </tr>\n",
       "    <tr>\n",
       "      <th>11</th>\n",
       "      <td>median f tissue</td>\n",
       "      <td>[0.74, ±, 0.05]</td>\n",
       "      <td>[0.89, ±, 0.11]</td>\n",
       "      <td>0.021</td>\n",
       "      <td>0.204</td>\n",
       "    </tr>\n",
       "    <tr>\n",
       "      <th>46</th>\n",
       "      <td>mean med fd</td>\n",
       "      <td>[1.25, ±, 0.5]</td>\n",
       "      <td>[0.52, ±, 0.54]</td>\n",
       "      <td>0.021</td>\n",
       "      <td>0.204</td>\n",
       "    </tr>\n",
       "    <tr>\n",
       "      <th>32</th>\n",
       "      <td>std D tissue</td>\n",
       "      <td>[1.02, ±, 0.24]</td>\n",
       "      <td>[0.65, ±, 0.26]</td>\n",
       "      <td>0.026</td>\n",
       "      <td>0.204</td>\n",
       "    </tr>\n",
       "    <tr>\n",
       "      <th>51</th>\n",
       "      <td>std slow fd</td>\n",
       "      <td>[0.79, ±, 0.19]</td>\n",
       "      <td>[0.52, ±, 0.2]</td>\n",
       "      <td>0.026</td>\n",
       "      <td>0.204</td>\n",
       "    </tr>\n",
       "    <tr>\n",
       "      <th>25</th>\n",
       "      <td>mean D tubule</td>\n",
       "      <td>[7.97, ±, 2.34]</td>\n",
       "      <td>[3.99, ±, 4.76]</td>\n",
       "      <td>0.032</td>\n",
       "      <td>0.223</td>\n",
       "    </tr>\n",
       "    <tr>\n",
       "      <th>52</th>\n",
       "      <td>mean fibro fd</td>\n",
       "      <td>[0.07, ±, 0.02]</td>\n",
       "      <td>[0.04, ±, 0.02]</td>\n",
       "      <td>0.050</td>\n",
       "      <td>0.303</td>\n",
       "    </tr>\n",
       "  </tbody>\n",
       "</table>\n",
       "</div>"
      ],
      "text/plain": [
       "            Feature          healthy     pathological p-value  bh p-value\n",
       "5     mean f tubule  [0.11, ±, 0.04]  [0.04, ±, 0.04]   0.006       0.204\n",
       "7      std f tubule  [0.15, ±, 0.03]  [0.09, ±, 0.06]   0.016       0.204\n",
       "10    mean f tissue  [0.73, ±, 0.05]  [0.85, ±, 0.09]   0.016       0.204\n",
       "11  median f tissue  [0.74, ±, 0.05]  [0.89, ±, 0.11]   0.021       0.204\n",
       "46      mean med fd   [1.25, ±, 0.5]  [0.52, ±, 0.54]   0.021       0.204\n",
       "32     std D tissue  [1.02, ±, 0.24]  [0.65, ±, 0.26]   0.026       0.204\n",
       "51      std slow fd  [0.79, ±, 0.19]   [0.52, ±, 0.2]   0.026       0.204\n",
       "25    mean D tubule  [7.97, ±, 2.34]  [3.99, ±, 4.76]   0.032       0.223\n",
       "52    mean fibro fd  [0.07, ±, 0.02]  [0.04, ±, 0.02]   0.050       0.303"
      ]
     },
     "metadata": {},
     "output_type": "display_data"
    }
   ],
   "source": [
    "print('Healthy volunteer vs. Allografts with healthy function & fibrosis',len(df_fibro))\n",
    "testranksums(RA_Database_Volunteer, df_fibro)\n"
   ]
  },
  {
   "cell_type": "code",
   "execution_count": 27,
   "id": "faedc880",
   "metadata": {
    "scrolled": false
   },
   "outputs": [
    {
     "name": "stdout",
     "output_type": "stream",
     "text": [
      "Healthy volunteer vs. Allografts with impaired function & fibrosis 19\n"
     ]
    },
    {
     "data": {
      "text/html": [
       "<div>\n",
       "<style scoped>\n",
       "    .dataframe tbody tr th:only-of-type {\n",
       "        vertical-align: middle;\n",
       "    }\n",
       "\n",
       "    .dataframe tbody tr th {\n",
       "        vertical-align: top;\n",
       "    }\n",
       "\n",
       "    .dataframe thead th {\n",
       "        text-align: right;\n",
       "    }\n",
       "</style>\n",
       "<table border=\"1\" class=\"dataframe\">\n",
       "  <thead>\n",
       "    <tr style=\"text-align: right;\">\n",
       "      <th></th>\n",
       "      <th>Feature</th>\n",
       "      <th>healthy</th>\n",
       "      <th>pathological</th>\n",
       "      <th>p-value</th>\n",
       "      <th>bh p-value</th>\n",
       "    </tr>\n",
       "  </thead>\n",
       "  <tbody>\n",
       "    <tr>\n",
       "      <th>7</th>\n",
       "      <td>std f tubule</td>\n",
       "      <td>[0.15, ±, 0.03]</td>\n",
       "      <td>[0.09, ±, 0.05]</td>\n",
       "      <td>0.009</td>\n",
       "      <td>0.330</td>\n",
       "    </tr>\n",
       "    <tr>\n",
       "      <th>51</th>\n",
       "      <td>std slow fd</td>\n",
       "      <td>[0.79, ±, 0.19]</td>\n",
       "      <td>[0.52, ±, 0.18]</td>\n",
       "      <td>0.014</td>\n",
       "      <td>0.330</td>\n",
       "    </tr>\n",
       "    <tr>\n",
       "      <th>5</th>\n",
       "      <td>mean f tubule</td>\n",
       "      <td>[0.11, ±, 0.04]</td>\n",
       "      <td>[0.05, ±, 0.04]</td>\n",
       "      <td>0.021</td>\n",
       "      <td>0.330</td>\n",
       "    </tr>\n",
       "    <tr>\n",
       "      <th>10</th>\n",
       "      <td>mean f tissue</td>\n",
       "      <td>[0.73, ±, 0.05]</td>\n",
       "      <td>[0.82, ±, 0.08]</td>\n",
       "      <td>0.025</td>\n",
       "      <td>0.330</td>\n",
       "    </tr>\n",
       "    <tr>\n",
       "      <th>11</th>\n",
       "      <td>median f tissue</td>\n",
       "      <td>[0.74, ±, 0.05]</td>\n",
       "      <td>[0.85, ±, 0.11]</td>\n",
       "      <td>0.030</td>\n",
       "      <td>0.330</td>\n",
       "    </tr>\n",
       "    <tr>\n",
       "      <th>32</th>\n",
       "      <td>std D tissue</td>\n",
       "      <td>[1.02, ±, 0.24]</td>\n",
       "      <td>[0.7, ±, 0.29]</td>\n",
       "      <td>0.036</td>\n",
       "      <td>0.330</td>\n",
       "    </tr>\n",
       "    <tr>\n",
       "      <th>30</th>\n",
       "      <td>mean D tissue</td>\n",
       "      <td>[2.71, ±, 0.71]</td>\n",
       "      <td>[2.13, ±, 0.27]</td>\n",
       "      <td>0.043</td>\n",
       "      <td>0.336</td>\n",
       "    </tr>\n",
       "  </tbody>\n",
       "</table>\n",
       "</div>"
      ],
      "text/plain": [
       "            Feature          healthy     pathological p-value  bh p-value\n",
       "7      std f tubule  [0.15, ±, 0.03]  [0.09, ±, 0.05]   0.009       0.330\n",
       "51      std slow fd  [0.79, ±, 0.19]  [0.52, ±, 0.18]   0.014       0.330\n",
       "5     mean f tubule  [0.11, ±, 0.04]  [0.05, ±, 0.04]   0.021       0.330\n",
       "10    mean f tissue  [0.73, ±, 0.05]  [0.82, ±, 0.08]   0.025       0.330\n",
       "11  median f tissue  [0.74, ±, 0.05]  [0.85, ±, 0.11]   0.030       0.330\n",
       "32     std D tissue  [1.02, ±, 0.24]   [0.7, ±, 0.29]   0.036       0.330\n",
       "30    mean D tissue  [2.71, ±, 0.71]  [2.13, ±, 0.27]   0.043       0.336"
      ]
     },
     "metadata": {},
     "output_type": "display_data"
    }
   ],
   "source": [
    "print('Healthy volunteer vs. Allografts with impaired function & fibrosis', len(df_fibroimpfunc))\n",
    "testranksums(RA_Database_Volunteer, df_fibroimpfunc)\n"
   ]
  },
  {
   "cell_type": "code",
   "execution_count": 28,
   "id": "d3ee853d",
   "metadata": {},
   "outputs": [
    {
     "name": "stdout",
     "output_type": "stream",
     "text": [
      "Healthy volunteer vs. Allografts with any bad 41\n"
     ]
    },
    {
     "data": {
      "text/html": [
       "<div>\n",
       "<style scoped>\n",
       "    .dataframe tbody tr th:only-of-type {\n",
       "        vertical-align: middle;\n",
       "    }\n",
       "\n",
       "    .dataframe tbody tr th {\n",
       "        vertical-align: top;\n",
       "    }\n",
       "\n",
       "    .dataframe thead th {\n",
       "        text-align: right;\n",
       "    }\n",
       "</style>\n",
       "<table border=\"1\" class=\"dataframe\">\n",
       "  <thead>\n",
       "    <tr style=\"text-align: right;\">\n",
       "      <th></th>\n",
       "      <th>Feature</th>\n",
       "      <th>healthy</th>\n",
       "      <th>pathological</th>\n",
       "      <th>p-value</th>\n",
       "      <th>bh p-value</th>\n",
       "    </tr>\n",
       "  </thead>\n",
       "  <tbody>\n",
       "    <tr>\n",
       "      <th>5</th>\n",
       "      <td>mean f tubule</td>\n",
       "      <td>[0.11, ±, 0.04]</td>\n",
       "      <td>[0.05, ±, 0.04]</td>\n",
       "      <td>0.007</td>\n",
       "      <td>0.158</td>\n",
       "    </tr>\n",
       "    <tr>\n",
       "      <th>7</th>\n",
       "      <td>std f tubule</td>\n",
       "      <td>[0.15, ±, 0.03]</td>\n",
       "      <td>[0.09, ±, 0.05]</td>\n",
       "      <td>0.007</td>\n",
       "      <td>0.158</td>\n",
       "    </tr>\n",
       "    <tr>\n",
       "      <th>51</th>\n",
       "      <td>std slow fd</td>\n",
       "      <td>[0.79, ±, 0.19]</td>\n",
       "      <td>[0.51, ±, 0.18]</td>\n",
       "      <td>0.011</td>\n",
       "      <td>0.158</td>\n",
       "    </tr>\n",
       "    <tr>\n",
       "      <th>10</th>\n",
       "      <td>mean f tissue</td>\n",
       "      <td>[0.73, ±, 0.05]</td>\n",
       "      <td>[0.83, ±, 0.08]</td>\n",
       "      <td>0.012</td>\n",
       "      <td>0.158</td>\n",
       "    </tr>\n",
       "    <tr>\n",
       "      <th>32</th>\n",
       "      <td>std D tissue</td>\n",
       "      <td>[1.02, ±, 0.24]</td>\n",
       "      <td>[0.66, ±, 0.28]</td>\n",
       "      <td>0.017</td>\n",
       "      <td>0.158</td>\n",
       "    </tr>\n",
       "    <tr>\n",
       "      <th>11</th>\n",
       "      <td>median f tissue</td>\n",
       "      <td>[0.74, ±, 0.05]</td>\n",
       "      <td>[0.86, ±, 0.1]</td>\n",
       "      <td>0.017</td>\n",
       "      <td>0.158</td>\n",
       "    </tr>\n",
       "    <tr>\n",
       "      <th>46</th>\n",
       "      <td>mean med fd</td>\n",
       "      <td>[1.25, ±, 0.5]</td>\n",
       "      <td>[0.62, ±, 0.64]</td>\n",
       "      <td>0.027</td>\n",
       "      <td>0.215</td>\n",
       "    </tr>\n",
       "    <tr>\n",
       "      <th>30</th>\n",
       "      <td>mean D tissue</td>\n",
       "      <td>[2.71, ±, 0.71]</td>\n",
       "      <td>[2.13, ±, 0.32]</td>\n",
       "      <td>0.036</td>\n",
       "      <td>0.246</td>\n",
       "    </tr>\n",
       "    <tr>\n",
       "      <th>25</th>\n",
       "      <td>mean D tubule</td>\n",
       "      <td>[7.97, ±, 2.34]</td>\n",
       "      <td>[4.49, ±, 4.39]</td>\n",
       "      <td>0.046</td>\n",
       "      <td>0.195</td>\n",
       "    </tr>\n",
       "  </tbody>\n",
       "</table>\n",
       "</div>"
      ],
      "text/plain": [
       "            Feature          healthy     pathological p-value  bh p-value\n",
       "5     mean f tubule  [0.11, ±, 0.04]  [0.05, ±, 0.04]   0.007       0.158\n",
       "7      std f tubule  [0.15, ±, 0.03]  [0.09, ±, 0.05]   0.007       0.158\n",
       "51      std slow fd  [0.79, ±, 0.19]  [0.51, ±, 0.18]   0.011       0.158\n",
       "10    mean f tissue  [0.73, ±, 0.05]  [0.83, ±, 0.08]   0.012       0.158\n",
       "32     std D tissue  [1.02, ±, 0.24]  [0.66, ±, 0.28]   0.017       0.158\n",
       "11  median f tissue  [0.74, ±, 0.05]   [0.86, ±, 0.1]   0.017       0.158\n",
       "46      mean med fd   [1.25, ±, 0.5]  [0.62, ±, 0.64]   0.027       0.215\n",
       "30    mean D tissue  [2.71, ±, 0.71]  [2.13, ±, 0.32]   0.036       0.246\n",
       "25    mean D tubule  [7.97, ±, 2.34]  [4.49, ±, 4.39]   0.046       0.195"
      ]
     },
     "metadata": {},
     "output_type": "display_data"
    }
   ],
   "source": [
    "print('Healthy volunteer vs. Allografts with any bad', len(df_anyclinical))\n",
    "testranksums(RA_Database_Volunteer, df_anyclinical)\n"
   ]
  },
  {
   "cell_type": "markdown",
   "id": "fe7a850b",
   "metadata": {},
   "source": [
    "# making box plot\n"
   ]
  },
  {
   "cell_type": "code",
   "execution_count": 29,
   "id": "153a9501",
   "metadata": {},
   "outputs": [],
   "source": [
    "RA_Database_Volunteer['allograft status'] = -1\n",
    "df['allograft status'] = df['GFR CKD EPI']\n",
    "df['allograft status'].loc[(df['GFR CKD EPI'] > 45) &(df['IFTA'] == 0)] = 0 #'Healthy Function'\n",
    "df['allograft status'].loc[(df['GFR CKD EPI'] <= 45) &(df['IFTA'] == 0)] =2 #'No fibrosis impaired function'\n",
    "df['allograft status'].loc[(df['GFR CKD EPI'] > 45) &(df['IFTA'] > 0)] = 3 #'Fibrosis with normal function'\n",
    "df['allograft status'].loc[(df['GFR CKD EPI'] <= 45) &(df['IFTA'] > 0)] = 1 #'Fibrosis with impaired function'\n",
    "\n",
    "\n",
    "df_boxplot = pd.concat([df[['Record ID', 'mean med fd', 'median med fd', 'allograft status']], RA_Database_Volunteer[['Record ID', 'mean med fd', 'median med fd', 'allograft status']]])\n",
    "\n"
   ]
  },
  {
   "cell_type": "code",
   "execution_count": 30,
   "id": "521b23d4",
   "metadata": {},
   "outputs": [
    {
     "data": {
      "image/png": "[encoded data removed]",
      "text/plain": [
       "<Figure size 640x480 with 1 Axes>"
      ]
     },
     "metadata": {},
     "output_type": "display_data"
    }
   ],
   "source": [
    "sns.boxplot(x=df_boxplot[\"allograft status\"], y=df_boxplot[\"mean med fd\"])#,showmeans=True )\n",
    "pl.axvline(.5, color=\".3\")#, dashes=(2, 2))\n",
    "pl.axhline(0, color=\".3\", dashes=(2, 2))\n",
    "pl.ylim(-.4, 2.6)\n",
    "pl.scatter([0,1,2,3,4], [np.median(RA_Database_Volunteer['mean med fd']), np.median(df_healthyallo['mean med fd']), np.median(df_fibroimpfunc['mean med fd']), np.median(df_impfunc['mean med fd']), np.median(df_fibro['mean med fd'])], color = 'black')\n",
    "pl.plot([0,1,2,3,4], [np.median(RA_Database_Volunteer['mean med fd']), np.median(df_healthyallo['mean med fd']), np.median(df_fibroimpfunc['mean med fd']), np.median(df_impfunc['mean med fd']),np.median(df_fibro['mean med fd'])], color = 'black', linestyle = '-')\n",
    "pl.ylabel('Spectral Diffusion\\nmean fD tubule')\n",
    "\n",
    "pl.show()"
   ]
  },
  {
   "cell_type": "code",
   "execution_count": 31,
   "id": "38b991ed",
   "metadata": {},
   "outputs": [
    {
     "name": "stdout",
     "output_type": "stream",
     "text": [
      "2.14552394236982 1.670109156415073 1.8676825002093944 1.7620287799467413 2.0660004862418835\n",
      "0.5904278953054277 0.32347547089896594 0.19616492491349488 0.3580870020498986 0.3493740925436278\n"
     ]
    }
   ],
   "source": [
    "print(np.mean(RA_Database_Volunteer['mean slow fd']), np.mean(df_healthyallo['mean slow fd']), np.mean(df_fibroimpfunc['mean slow fd']), np.mean(df_impfunc['mean slow fd']),np.mean(df_fibro['mean slow fd']))\n",
    "print(np.std(RA_Database_Volunteer['mean slow fd']), np.std(df_healthyallo['mean slow fd']), np.std(df_fibroimpfunc['mean slow fd']), np.std(df_impfunc['mean slow fd']),np.std(df_fibro['mean slow fd']))\n"
   ]
  },
  {
   "cell_type": "code",
   "execution_count": 33,
   "id": "3293eba8",
   "metadata": {},
   "outputs": [
    {
     "name": "stdout",
     "output_type": "stream",
     "text": [
      "925.7210892825412 1197.9047068944346 915.603628312867 1026.0929008982773 777.7890837380696\n",
      "477.45597254833785 518.384777221144 638.2648144191843 538.888772607894 745.7132936522265\n"
     ]
    }
   ],
   "source": [
    "print(112.5*np.mean(RA_Database_Volunteer['mean fast fd']), 112.5*np.mean(df_healthyallo['mean fast fd']), 112.5*np.mean(df_fibroimpfunc['mean fast fd']), 112.5*np.mean(df_impfunc['mean fast fd']), 112.5*np.mean(df_fibro['mean fast fd']))\n",
    "print(112.5*np.std(RA_Database_Volunteer['mean fast fd']), 112.5*np.std(df_healthyallo['mean fast fd']), 112.5*np.std(df_fibroimpfunc['mean fast fd']), 112.5*np.std(df_impfunc['mean fast fd']), 112.5*np.std(df_fibro['mean fast fd']))\n"
   ]
  },
  {
   "cell_type": "code",
   "execution_count": 34,
   "id": "b941d253",
   "metadata": {},
   "outputs": [
    {
     "name": "stdout",
     "output_type": "stream",
     "text": [
      "140.1926879030178 127.16208830572789 78.18552418169456 75.20490866107572 58.0289925532454\n",
      "50.57354572759497 77.30477686544035 82.5998697007492 55.922070141490074 58.62454810359722\n"
     ]
    }
   ],
   "source": [
    "print(112.5*np.mean(RA_Database_Volunteer['mean med fd']), 112.5*np.mean(df_healthyallo['mean med fd']), 112.5*np.mean(df_fibroimpfunc['mean med fd']), 112.5*np.mean(df_impfunc['mean med fd']),112.5*np.mean(df_fibro['mean med fd']))\n",
    "print(112.5*np.std(RA_Database_Volunteer['mean med fd']), 112.5*np.std(df_healthyallo['mean med fd']), 112.5*np.std(df_fibroimpfunc['mean med fd']), 112.5*np.std(df_impfunc['mean med fd']),112.5*np.std(df_fibro['mean med fd']))\n"
   ]
  },
  {
   "cell_type": "code",
   "execution_count": null,
   "id": "2719c139",
   "metadata": {},
   "outputs": [],
   "source": []
  }
 ],
 "metadata": {
  "kernelspec": {
   "display_name": "Python 3 (ipykernel)",
   "language": "python",
   "name": "python3"
  },
  "language_info": {
   "codemirror_mode": {
    "name": "ipython",
    "version": 3
   },
   "file_extension": ".py",
   "mimetype": "text/x-python",
   "name": "python",
   "nbconvert_exporter": "python",
   "pygments_lexer": "ipython3",
   "version": "3.11.4"
  }
 },
 "nbformat": 4,
 "nbformat_minor": 5
}
