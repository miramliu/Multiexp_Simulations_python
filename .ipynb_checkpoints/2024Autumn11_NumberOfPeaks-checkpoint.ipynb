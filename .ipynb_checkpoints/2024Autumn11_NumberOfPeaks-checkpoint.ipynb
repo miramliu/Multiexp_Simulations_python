{
 "cells": [
  {
   "cell_type": "markdown",
   "id": "8f2b0949",
   "metadata": {},
   "source": [
    "# to look at number of peaks... \n",
    "\n",
    "Somehow the anomalous diffusion (with A in the name) has fewer total peaks??? what lol"
   ]
  },
  {
   "cell_type": "code",
   "execution_count": 1,
   "id": "c92f000e",
   "metadata": {},
   "outputs": [],
   "source": [
    "import numpy as np\n",
    "import matplotlib\n",
    "import matplotlib.pyplot as pl\n",
    "%matplotlib inline\n",
    "import csv\n",
    "\n",
    "import scipy.optimize as op\n",
    "import scipy.stats\n",
    "from scipy.optimize import curve_fit\n",
    "import scipy.io\n",
    "from scipy.stats import rice\n",
    "\n",
    "import random\n",
    "import pickle\n",
    "import seaborn as sns\n",
    "\n",
    "import numpy as np\n",
    "from scipy.stats import ttest_ind, ttest_ind_from_stats, wilcoxon,ttest_rel, pearsonr,shapiro,f_oneway, ranksums\n",
    "from scipy.special import stdtr\n",
    "import csv\n",
    "import pandas as pd\n",
    "\n",
    "from scipy.integrate import quad\n",
    "import sys \n",
    "import os\n",
    "#sys.path.append(os.path.abspath(\"/Users/neuroimaging/Desktop/MR-code/Python_Code\"))\n",
    "\n",
    "#from ML_UsefulFunctions import *\n",
    "#from KidneyROIAnalyses import *\n",
    "\n",
    "from scipy import special\n",
    "\n",
    "from scipy.integrate import tplquad\n",
    "\n",
    "pd.options.display.float_format = '{:.3f}'.format\n",
    "\n",
    "from sklearn.metrics import r2_score\n",
    "\n",
    "\n",
    "from sklearn.feature_selection import SequentialFeatureSelector\n",
    "\n",
    "import warnings\n",
    "warnings.simplefilter(\"ignore\")\n",
    "\n",
    "\n",
    "from EllipsoidalSimulationCode import *\n",
    "\n",
    "from statistics import mean\n",
    "\n",
    "pl.rcParams[\"font.family\"] = \"Times New Roman\"\n",
    "\n",
    "\n",
    "def func(x,m,b):\n",
    "    return m*x + b\n",
    "\n",
    "\n",
    "def biexp_func(b, frac_fast,frac_slow,diff_fast,diff_slow):\n",
    "    Data = frac_slow*np.exp(-b*diff_slow)+frac_fast*np.exp(-b*diff_fast)\n",
    "    normal = frac_slow+frac_fast\n",
    "    return Data/normal\n",
    "\n",
    "def monoexp_func(b, frac, diff):\n",
    "    Data = frac*np.exp(-b*diff)\n",
    "    return Data"
   ]
  },
  {
   "cell_type": "code",
   "execution_count": 15,
   "id": "c3703604",
   "metadata": {},
   "outputs": [
    {
     "data": {
      "text/plain": [
       "3.000    541\n",
       "2.000    295\n",
       "4.000    133\n",
       "1.000      4\n",
       "Name: Fit number of peaks, dtype: int64"
      ]
     },
     "execution_count": 15,
     "metadata": {},
     "output_type": "execute_result"
    }
   ],
   "source": [
    "\n",
    "fileloc = '/Users/miraliu/Desktop/PostDocCode/Multiexp_Simulations_python/Simulated_2peak_AnomalousDiffusionSpectra_Fits_Npeak.xlsx'\n",
    "TrueDataFits = pd.read_excel(fileloc,sheet_name = 'lmd_01_AN_SNR_50') #s means sorted\n",
    "TrueDataFits=TrueDataFits.rename(columns={c: 'Fit '+c for c in TrueDataFits.columns if c not in ['Run Number', 'Unnamed']})\n",
    "TrueDataFits['Fit number of peaks'].value_counts()"
   ]
  },
  {
   "cell_type": "code",
   "execution_count": 16,
   "id": "b6e27a0c",
   "metadata": {},
   "outputs": [
    {
     "data": {
      "text/plain": [
       "3.000    401\n",
       "2.000    395\n",
       "4.000     30\n",
       "1.000      3\n",
       "Name: Fit number of peaks, dtype: int64"
      ]
     },
     "execution_count": 16,
     "metadata": {},
     "output_type": "execute_result"
    }
   ],
   "source": [
    "fileloc = '/Users/miraliu/Desktop/PostDocCode/Multiexp_Simulations_python/Simulated_2peak_AnomalousDiffusionSpectra_Fits_Npeak.xlsx'\n",
    "TrueDataFits = pd.read_excel(fileloc,sheet_name = 'lmd_01_AN_A_SNR_50') #s means sorted\n",
    "TrueDataFits=TrueDataFits.rename(columns={c: 'Fit '+c for c in TrueDataFits.columns if c not in ['Run Number', 'Unnamed']})\n",
    "TrueDataFits['Fit number of peaks'].value_counts()"
   ]
  },
  {
   "cell_type": "code",
   "execution_count": 17,
   "id": "0e1b1cd7",
   "metadata": {},
   "outputs": [
    {
     "data": {
      "text/plain": [
       "3    636\n",
       "4    315\n",
       "2     49\n",
       "Name: Fit number of peaks, dtype: int64"
      ]
     },
     "execution_count": 17,
     "metadata": {},
     "output_type": "execute_result"
    }
   ],
   "source": [
    "\n",
    "fileloc = '/Users/miraliu/Desktop/PostDocCode/Multiexp_Simulations_python/Simulated_3peak_AnomalousDiffusionSpectra_Fits_Npeak.xlsx'\n",
    "TrueDataFits = pd.read_excel(fileloc,sheet_name = 'lmd_01_AN_SNR_50') #s means sorted\n",
    "TrueDataFits=TrueDataFits.rename(columns={c: 'Fit '+c for c in TrueDataFits.columns if c not in ['Run Number', 'Unnamed']})\n",
    "TrueDataFits['Fit number of peaks'].value_counts()"
   ]
  },
  {
   "cell_type": "code",
   "execution_count": 18,
   "id": "9bc6df36",
   "metadata": {},
   "outputs": [
    {
     "data": {
      "text/plain": [
       "3    793\n",
       "4    161\n",
       "2     46\n",
       "Name: Fit number of peaks, dtype: int64"
      ]
     },
     "execution_count": 18,
     "metadata": {},
     "output_type": "execute_result"
    }
   ],
   "source": [
    "fileloc = '/Users/miraliu/Desktop/PostDocCode/Multiexp_Simulations_python/Simulated_3peak_AnomalousDiffusionSpectra_Fits_Npeak.xlsx'\n",
    "TrueDataFits = pd.read_excel(fileloc,sheet_name = 'lmd_01_AN_A_SNR_50') #s means sorted\n",
    "TrueDataFits=TrueDataFits.rename(columns={c: 'Fit '+c for c in TrueDataFits.columns if c not in ['Run Number', 'Unnamed']})\n",
    "TrueDataFits['Fit number of peaks'].value_counts()"
   ]
  },
  {
   "cell_type": "code",
   "execution_count": null,
   "id": "96ae1884",
   "metadata": {},
   "outputs": [],
   "source": []
  }
 ],
 "metadata": {
  "kernelspec": {
   "display_name": "Python 3 (ipykernel)",
   "language": "python",
   "name": "python3"
  },
  "language_info": {
   "codemirror_mode": {
    "name": "ipython",
    "version": 3
   },
   "file_extension": ".py",
   "mimetype": "text/x-python",
   "name": "python",
   "nbconvert_exporter": "python",
   "pygments_lexer": "ipython3",
   "version": "3.11.4"
  }
 },
 "nbformat": 4,
 "nbformat_minor": 5
}
