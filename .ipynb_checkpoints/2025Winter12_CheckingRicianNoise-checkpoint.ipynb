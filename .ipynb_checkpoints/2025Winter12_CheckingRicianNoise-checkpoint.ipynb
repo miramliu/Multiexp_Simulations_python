{
 "cells": [
  {
   "cell_type": "code",
   "execution_count": 2,
   "id": "4e201ff1-fcfc-45ff-a200-43051302739e",
   "metadata": {},
   "outputs": [],
   "source": [
    "import numpy as np\n",
    "import matplotlib\n",
    "import matplotlib.pyplot as pl\n",
    "%matplotlib inline\n",
    "import csv\n",
    "\n",
    "import scipy.optimize as op\n",
    "import scipy.stats\n",
    "from scipy.optimize import curve_fit\n",
    "import scipy.io\n",
    "from scipy.stats import rice\n",
    "\n",
    "import random\n",
    "import pickle\n",
    "import seaborn as sns\n",
    "\n",
    "import numpy as np\n",
    "from scipy.stats import ttest_ind, ttest_ind_from_stats, wilcoxon,ttest_rel, pearsonr,shapiro,f_oneway, ranksums\n",
    "from scipy.special import stdtr\n",
    "import csv\n",
    "import pandas as pd\n",
    "\n",
    "from scipy.integrate import quad\n",
    "import sys \n",
    "import os\n",
    "sys.path.append(os.path.abspath(\"/Users/miraliu/Desktop/PostDocCode/PartialNephrectomy_Python\"))\n",
    "sys.path.append(os.path.abspath(\"/Users/miraliu/Desktop/PostDocCode/RenalAllograft_Python\"))\n",
    "\n",
    "#sys.path.append('../')\n",
    "from ML_UsefulFunctions import *\n",
    "from KidneyROIAnalyses import *\n",
    "from RenalAllograftFunctions import *\n",
    "from DataLeakageCorrections import *\n",
    "\n",
    "from scipy import special\n",
    "\n",
    "from scipy.integrate import tplquad\n",
    "\n",
    "pd.options.display.float_format = '{:.3f}'.format\n",
    "\n",
    "from scipy.stats import f_oneway\n",
    "\n",
    "from collections import Counter\n",
    "from sklearn.feature_selection import SequentialFeatureSelector\n",
    "\n",
    "import warnings\n",
    "warnings.simplefilter(\"ignore\")"
   ]
  },
  {
   "cell_type": "code",
   "execution_count": 58,
   "id": "91042d6f-703b-4089-a3f6-9ec4858f9e7e",
   "metadata": {},
   "outputs": [],
   "source": [
    "def NoiseRice(I,sigma): # noise with rician distribution\n",
    "    N = [] \n",
    "    #v = .79 # calculated from images on 6/11/19\n",
    "    #sigma = .013 #(std of noise measured!)\n",
    "    #v = 0.00434 #scaled = .79/182\n",
    "    v = .005816 #scaled 6/27/19\n",
    "    b = v/sigma\n",
    "    r = rice.rvs(b, scale = sigma, size=len(I))\n",
    "    for i in range(0,len(I)):\n",
    "        N.append(I[i] +r[i]) #SNR = 1,10,22,100,150,inf\n",
    "    return N/N[0]"
   ]
  },
  {
   "cell_type": "code",
   "execution_count": 60,
   "id": "3393b20f-e4a0-4f74-9bad-3f9bfefc7db4",
   "metadata": {},
   "outputs": [],
   "source": [
    "def NoiseRice_sigsquare(I,sigma): # noise with rician distribution\n",
    "    N = [] \n",
    "    #v = .79 # calculated from images on 6/11/19\n",
    "    #sigma = .013 #(std of noise measured!)\n",
    "    #v = 0.00434 #scaled = .79/182\n",
    "    v = .005816 #scaled 6/27/19\n",
    "    b = v/sigma**2\n",
    "    r = rice.rvs(b, scale = sigma, size=len(I))\n",
    "    for i in range(0,len(I)):\n",
    "        N.append(I[i] +r[i]) #SNR = 1,10,22,100,150,inf\n",
    "    return N/N[0]"
   ]
  },
  {
   "cell_type": "code",
   "execution_count": 62,
   "id": "7e550876-71aa-4dfc-8eab-e27369e66492",
   "metadata": {},
   "outputs": [],
   "source": [
    "def NoiseRice_raw(I,sigma): # noise with rician distribution\n",
    "    N = [] \n",
    "    #v = .79 # calculated from images on 6/11/19\n",
    "    #sigma = .013 #(std of noise measured!)\n",
    "    #v = 0.00434 #scaled = .79/182\n",
    "    v = 0#.005816 #scaled 6/27/19\n",
    "    b = 0#v/sigma**2\n",
    "    r = rice.rvs(0, scale = sigma, size=len(I))\n",
    "    for i in range(0,len(I)):\n",
    "        N.append(I[i] +r[i]) #SNR = 1,10,22,100,150,inf\n",
    "    return N/N[0]"
   ]
  },
  {
   "cell_type": "code",
   "execution_count": null,
   "id": "d6bd5f40-89c2-4db9-9e62-efa054a7ea66",
   "metadata": {},
   "outputs": [],
   "source": [
    "def NoiseRice_Gauss(I,A,sigma): # noise with rician distribution\n",
    "    N = [] \n",
    "    A=1\n",
    "    #r = rice.rvs(0, scale = sigma, size=len(I))\n",
    "    for i in range(0,len(I)):\n",
    "        N.append(I[i] +np.random.normal(loc=np.sqrt(I**2 + sigma**2), scale=sigma)) #SNR = 1,10,22,100,150,inf\n",
    "    return N/N[0]"
   ]
  },
  {
   "cell_type": "code",
   "execution_count": 64,
   "id": "6d8157fc-7946-4ef8-a84e-90fa56a7d623",
   "metadata": {},
   "outputs": [
    {
     "data": {
      "image/png": "[encoded data removed]",
      "text/plain": [
       "<Figure size 640x480 with 1 Axes>"
      ]
     },
     "metadata": {},
     "output_type": "display_data"
    }
   ],
   "source": [
    "def biexp(b,f,D,Dstar):\n",
    "    return f*np.exp(-b*Dstar) + (1-f)*np.exp(-b*D)\n",
    "\n",
    "b = np.array([0,20,40,60,100,150,200,300,500,800,1000])\n",
    "sig = biexp(b,0.2,0.002,0.01)\n",
    "pl.scatter(b,sig)\n",
    "pl.show()"
   ]
  },
  {
   "cell_type": "code",
   "execution_count": 70,
   "id": "9a97f0d0-7aa2-4ffd-af3a-ab4e9baea532",
   "metadata": {},
   "outputs": [
    {
     "data": {
      "text/plain": [
       "<matplotlib.collections.PathCollection at 0x29a60e750>"
      ]
     },
     "execution_count": 70,
     "metadata": {},
     "output_type": "execute_result"
    },
    {
     "data": {
      "image/png": "[encoded data removed]",
      "text/plain": [
       "<Figure size 640x480 with 1 Axes>"
      ]
     },
     "metadata": {},
     "output_type": "display_data"
    }
   ],
   "source": [
    "test1= NoiseRice(sig,0.02)\n",
    "test2= NoiseRice_sigsquare(sig,0.02)\n",
    "test3= NoiseRice_raw(sig,0.02)\n",
    "pl.scatter(b,sig)\n",
    "pl.scatter(b,test1)\n",
    "pl.scatter(b,test2)\n",
    "pl.scatter(b,test3)"
   ]
  },
  {
   "cell_type": "code",
   "execution_count": null,
   "id": "cb569e5f-d2fa-4e55-80d6-07194aa8607b",
   "metadata": {},
   "outputs": [],
   "source": []
  }
 ],
 "metadata": {
  "kernelspec": {
   "display_name": "Python [conda env:base] *",
   "language": "python",
   "name": "conda-base-py"
  },
  "language_info": {
   "codemirror_mode": {
    "name": "ipython",
    "version": 3
   },
   "file_extension": ".py",
   "mimetype": "text/x-python",
   "name": "python",
   "nbconvert_exporter": "python",
   "pygments_lexer": "ipython3",
   "version": "3.11.4"
  }
 },
 "nbformat": 4,
 "nbformat_minor": 5
}
